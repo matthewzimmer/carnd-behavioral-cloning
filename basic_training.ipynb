{
 "cells": [
  {
   "cell_type": "code",
   "execution_count": 6,
   "metadata": {
    "collapsed": false
   },
   "outputs": [],
   "source": [
    "import numpy as np\n",
    "import json\n",
    "import uuid\n",
    "import os\n",
    "\n",
    "from keras.layers import Convolution2D, Activation, MaxPooling2D, Dropout, Flatten, Dense, ZeroPadding2D, Lambda, ELU, BatchNormalization\n",
    "from keras.models import Sequential, model_from_json\n",
    "from keras.optimizers import Adam"
   ]
  },
  {
   "cell_type": "code",
   "execution_count": null,
   "metadata": {
    "collapsed": true
   },
   "outputs": [],
   "source": [
    "class TrainingDataset:\n",
    "    def load(self, validation_split_percentage=0.01):\n",
    "        X_train, y_train = [], []\n",
    "\n",
    "        # Only look at latest driving_log.csv\n",
    "        drive_log_path = './driving_log.csv'\n",
    "\n",
    "        if os.path.isfile(drive_log_path):\n",
    "            df = pd.read_csv(drive_log_path)\n",
    "            headers = list(df.columns.values)\n",
    "            print(headers)\n",
    "            for index, row in df.iterrows():\n",
    "                # print(observation)\n",
    "                c = row['center'].strip()\n",
    "                l = row['left'].strip()\n",
    "                r = row['right'].strip()\n",
    "                a = float(row['steering'])\n",
    "\n",
    "                if os.path.isfile(c):\n",
    "                    # casts absolute path to relative to remain env agnostic\n",
    "                    l, c, r = [('IMG/' + os.path.split(file_path)[1]) for file_path in (l, c, r)]\n",
    "                    # single string in memory\n",
    "                    x = '{}:{}:{}'.format(l, c, r)\n",
    "                    X_train.append(x)\n",
    "                    y_train.append(a)\n",
    "\n",
    "        # Split some of the training data into a validation dataset\n",
    "        X_train, X_val, y_train, y_val = train_test_split(\n",
    "            X_train,\n",
    "            y_train,\n",
    "            test_size=validation_split_percentage,\n",
    "            random_state=0)\n",
    "\n",
    "        X_train, y_train, X_val, y_val = np.array(X_train), np.array(y_train, dtype=np.float32), np.array(X_val), np.array(\n",
    "            y_val, dtype=np.float32)\n",
    "        \n",
    "        self.X_train = X_train\n",
    "        self.X_val = X_val\n",
    "        self.y_train = y_train\n",
    "        self.y_val = y_val\n",
    "        \n",
    "        return X_train, y_train, X_val, y_val"
   ]
  },
  {
   "cell_type": "code",
   "execution_count": 9,
   "metadata": {
    "collapsed": true
   },
   "outputs": [],
   "source": [
    "class BaseNetwork:\n",
    "    \n",
    "    WEIGHTS_FILE_NAME = 'model_final.h5'\n",
    "    MODEL_FILE_NAME = 'model_final.json'\n",
    "    \n",
    "    def __init__(self):\n",
    "        self.uuid = uuid.uuid4()\n",
    "        self.model = None\n",
    "        self.weights = None\n",
    "        self.__configured = True\n",
    "\n",
    "    def fit(self, X_train, y_train, nb_epoch=12, batch_size=128, validation_data=None, shuffle=True):\n",
    "        raise NotImplementedError\n",
    "\n",
    "    def save(self):\n",
    "        print('Saved {} model.'.format(self.__class__.__name__))\n",
    "        self.__persist()\n",
    "\n",
    "    def __persist(self):\n",
    "        save_dir = os.path.join(os.path.dirname(__file__))\n",
    "        weights_save_path = os.path.join(save_dir, WEIGHTS_FILE_NAME)\n",
    "        model_save_path = os.path.join(save_dir, MODEL_FILE_NAME)\n",
    "\n",
    "        if not os.path.exists(save_dir):\n",
    "            os.makedirs(save_dir)\n",
    "\n",
    "        self.model.save_weights(weights_save_ath)\n",
    "        with open(model_save_path, 'w') as outfile:\n",
    "            json.dump(self.model.to_json(), outfile)\n",
    "\n",
    "    def __str__(self):\n",
    "        results = []\n",
    "        if self.model is not None:\n",
    "            results.append(self.model.summary())\n",
    "        return '\\n'.join(results)"
   ]
  },
  {
   "cell_type": "code",
   "execution_count": 8,
   "metadata": {
    "collapsed": true
   },
   "outputs": [],
   "source": [
    "class Basic(BaseNetwork):\n",
    "    def fit(self, X_train, y_train, X_val, y_val, nb_epoch=2, batch_size=32, samples_per_epoch=None):\n",
    "        output_shape = (40, 80, 3)\n",
    "\n",
    "        print('population: ', len(X_train))\n",
    "\n",
    "        # train model\n",
    "        model = self.get_model(input_shape=output_shape, output_shape=output_shape)\n",
    "        if samples_per_epoch is None:\n",
    "            print('samples per epoch: {}'.format(samples_per_epoch))\n",
    "            samples_per_epoch = len(X_train)\n",
    "\n",
    "        history = model.fit_generator(\n",
    "            batch_generator(X=X_train, Y=y_train, label='train set', num_epochs=nb_epoch,\n",
    "                            batch_size=batch_size,\n",
    "                            output_shape=output_shape,\n",
    "                            classifier=self),\n",
    "            nb_epoch=nb_epoch,\n",
    "            samples_per_epoch=samples_per_epoch,\n",
    "            validation_data=batch_generator(X_val, y_val, 'validation set', num_epochs=nb_epoch,\n",
    "                                            batch_size=batch_size, output_shape=output_shape),\n",
    "            verbose=2)\n",
    "        \n",
    "        print(history.history)\n",
    "        self.save()\n",
    "    \n",
    "    def get_model(self, input_shape, output_shape, learning_rate=0.001, dropout_prob=0.1, activation='relu', use_weights=False):\n",
    "        model = Sequential()\n",
    "        model.add(Lambda(lambda x: x / 255 - 0.5,\n",
    "                         input_shape=input_shape,\n",
    "                         output_shape=output_shape))\n",
    "        model.add(Convolution2D(24, 5, 5, border_mode='valid', activation=activation))\n",
    "        model.add(MaxPooling2D(pool_size=(2, 2)))\n",
    "        model.add(Convolution2D(36, 5, 5, border_mode='valid', activation=activation))\n",
    "        model.add(MaxPooling2D(pool_size=(2, 2)))\n",
    "        model.add(Convolution2D(48, 5, 5, border_mode='same', activation=activation))\n",
    "        model.add(MaxPooling2D(pool_size=(2, 2)))\n",
    "        model.add(Convolution2D(64, 3, 3, border_mode='same', activation=activation))\n",
    "        model.add(Flatten())\n",
    "        model.add(Dropout(dropout_prob))\n",
    "        model.add(Dense(1024, activation=activation))\n",
    "        model.add(Dropout(dropout_prob))\n",
    "        model.add(Dense(100, activation=activation))\n",
    "        model.add(Dense(50, activation=activation))\n",
    "        model.add(Dense(10, activation=activation))\n",
    "        model.add(Dense(1, init='normal'))\n",
    "\n",
    "        optimizer = Adam(lr=learning_rate)\n",
    "        model.compile(loss='mse', optimizer=optimizer, metrics=['accuracy'])\n",
    "        self.model = model\n",
    "        model.summary()\n",
    "        return model"
   ]
  },
  {
   "cell_type": "code",
   "execution_count": null,
   "metadata": {
    "collapsed": true
   },
   "outputs": [],
   "source": [
    ""
   ]
  }
 ],
 "metadata": {
  "kernelspec": {
   "display_name": "Python 2",
   "language": "python",
   "name": "python2"
  },
  "language_info": {
   "codemirror_mode": {
    "name": "ipython",
    "version": 2.0
   },
   "file_extension": ".py",
   "mimetype": "text/x-python",
   "name": "python",
   "nbconvert_exporter": "python",
   "pygments_lexer": "ipython2",
   "version": "2.7.6"
  }
 },
 "nbformat": 4,
 "nbformat_minor": 0
}