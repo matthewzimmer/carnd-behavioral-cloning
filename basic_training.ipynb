{
 "cells": [
  {
   "cell_type": "code",
   "execution_count": 171,
   "metadata": {
    "collapsed": false
   },
   "outputs": [],
   "source": [
    "import numpy as np\n",
    "import pandas as pd\n",
    "import json\n",
    "import uuid\n",
    "import os\n",
    "import random\n",
    "\n",
    "from scipy import misc\n",
    "from keras.layers import Convolution2D, Activation, MaxPooling2D, Dropout, Flatten, Dense, ZeroPadding2D, Lambda, ELU, BatchNormalization\n",
    "from keras.models import Sequential, model_from_json\n",
    "from keras.optimizers import Adam\n",
    "from sklearn.model_selection import train_test_split\n",
    "from zimpy.camera_preprocessor import preprocess_image"
   ]
  },
  {
   "cell_type": "markdown",
   "metadata": {},
   "source": [
    "Training data was collected in the Self-Driving Car simulator on Mac OS using a Playstation 3 console controller."
   ]
  },
  {
   "cell_type": "markdown",
   "metadata": {},
   "source": [
    "### Recording Measurement class\n",
    "\n",
    "To simplify accessing each measurement from the original CSV, I've encapsulated each row in a special class.\n",
    "\n",
    "It serves the following purposes:\n",
    "\n",
    "  1. Strips whitespace off the left, center, and right camera image paths.\n",
    "  2. Casts the original absolute path of each camera image to a relative path.\n",
    "     This adds reassurance the image will load on any computer.\n",
    "  3. Provides a convenient #is_valid_measurment method which encapsulates pertinent logic to ensure data quality \n",
    "     is satisfactory.\n",
    "  4. Provides convenience getter methods for left, center and camera images. They're essentially designed to \n",
    "     lazily instantiate (once) the actual image array at the time the method is invoked."
   ]
  },
  {
   "cell_type": "code",
   "execution_count": 172,
   "metadata": {
    "collapsed": true
   },
   "outputs": [],
   "source": [
    "class RecordingMeasurement:\n",
    "    \"\"\"\n",
    "    A representation of a vehicle's state at a point in time while driving \n",
    "    around a track during recording.\n",
    "    \n",
    "    Features available are:\n",
    "    \n",
    "        left_camera_view   - An image taken by the LEFT camera.\n",
    "        center_camera_view - An image taken by the CENTER camera.\n",
    "        right_camera_view  - An image taken by the RIGHT camera.\n",
    "        steering_angle     - A normalized steering angle in the range -1 to 1.\n",
    "        speed              - The speed in which the vehicle was traveling at measurement time.\n",
    "        \n",
    "        \n",
    "    This class serves the following purposes:\n",
    "\n",
    "      1. Strips whitespace off the left, center, and right camera image paths.\n",
    "      2. Casts the original absolute path of each camera image to a relative path.\n",
    "         This adds reassurance the image will load on any computer.\n",
    "      3. Provides a convenient #is_valid_measurment method which encapsulates pertinent logic to ensure data quality \n",
    "         is satisfactory.\n",
    "      4. Provides convenience getter methods for left, center and camera images. They're essentially designed to \n",
    "         lazily instantiate (once) the actual image array at the time the method is invoked.\n",
    "         \n",
    "    \"\"\"\n",
    "    def __init__(self, measurement_data):\n",
    "        self.measurement_data = measurement_data\n",
    "        \n",
    "        self.steering_angle = round(float(measurement_data['steering']), 4)\n",
    "        self.speed = round(float(measurement_data['speed']), 4)\n",
    "        \n",
    "        l = measurement_data['left'].strip()\n",
    "        c = measurement_data['center'].strip()\n",
    "        r = measurement_data['right'].strip()\n",
    "        \n",
    "        # cast absolute path to relative path to be environment agnostic\n",
    "        l, c, r = [('./IMG/' + os.path.split(file_path)[1]) for file_path in (l, c, r)]\n",
    "\n",
    "        self.left_camera_path = l\n",
    "        self.center_camera_path = c\n",
    "        self.right_camera_path = r\n",
    "    \n",
    "    def is_valid_measurement(self):\n",
    "        return os.path.isfile(self.center_camera_path)\n",
    "    \n",
    "    def left_camera_view(self):\n",
    "        if not hasattr(self, '__left_camera_view'):\n",
    "            self.__left_camera_view = self.__load_image(self.left_camera_path)\n",
    "        return self.__left_camera_view\n",
    "    \n",
    "    def center_camera_view(self):\n",
    "        print('A')\n",
    "        if not hasattr(self, '__center_camera_view'):\n",
    "            print('B')\n",
    "            self.__center_camera_view = self.__load_image(self.center_camera_path)\n",
    "        print('C')\n",
    "        return self.__center_camera_view\n",
    "    \n",
    "    def right_camera_view(self):\n",
    "        if not hasattr(self, '__right_camera_view'):\n",
    "            self.__right_camera_view = self.__load_image(self.right_camera_path)\n",
    "        return self.__right_camera_view\n",
    "    \n",
    "    def __load_image(self, imagepath):\n",
    "        image_array = None\n",
    "        if os.path.isfile(imagepath):\n",
    "            image_array = misc.imread(imagepath)\n",
    "            print(image_array.shape)\n",
    "        else:\n",
    "            print('File Not Found: {}'.format(imagepath))\n",
    "        return image_array"
   ]
  },
  {
   "cell_type": "markdown",
   "metadata": {},
   "source": [
    "### Track 1 Training Dataset class"
   ]
  },
  {
   "cell_type": "code",
   "execution_count": 173,
   "metadata": {
    "collapsed": false
   },
   "outputs": [],
   "source": [
    "import math\n",
    "\n",
    "class Track1TrainingDataset:\n",
    "    \"\"\"\n",
    "    Parses driving_log.csv and constructs training and test datasets corresponding to \n",
    "    measurements taken at various points in time while recording on track 1.\n",
    "    \"\"\"\n",
    "    \n",
    "    DRIVING_LOG_PATH = './driving_log.csv'\n",
    "    \n",
    "    def __init__(self, validation_split_percentage=0.01):\n",
    "        self.load(validation_split_percentage=validation_split_percentage)\n",
    "    \n",
    "    def load(self, validation_split_percentage=0.01):\n",
    "        X_train, y_train = [], []\n",
    "\n",
    "        if os.path.isfile(self.DRIVING_LOG_PATH):\n",
    "            df = pd.read_csv(self.DRIVING_LOG_PATH)\n",
    "            headers = list(df.columns.values)\n",
    "            for index, measurement_data in df.iterrows():\n",
    "                measurement = RecordingMeasurement(measurement_data=measurement_data)\n",
    "                X_train.append(measurement)\n",
    "                y_train.append(measurement.steering_angle)\n",
    "\n",
    "        # Split some of the training data into a validation dataset\n",
    "        X_train, X_val, y_train, y_val = train_test_split(\n",
    "            X_train,\n",
    "            y_train,\n",
    "            test_size=validation_split_percentage,\n",
    "            random_state=0)\n",
    "\n",
    "        X_train, y_train, X_val, y_val = np.array(X_train), np.array(y_train, dtype=np.float32), np.array(X_val), np.array(\n",
    "            y_val, dtype=np.float32)\n",
    "        \n",
    "        self.X_train = X_train\n",
    "        self.X_val = X_val\n",
    "        self.y_train = y_train\n",
    "        self.y_val = y_val\n",
    "        self.df = df\n",
    "        self.headers = headers\n",
    "        \n",
    "        return self.X_train, self.y_train, self.X_val, self.y_val\n",
    "    \n",
    "    def batch_generator(self, X, Y, label, num_epochs, batch_size=32, output_shape=None, flip_images=True, classifier=None):\n",
    "        population = len(X)\n",
    "        counter = 0\n",
    "        _index_in_epoch = 0\n",
    "        _tot_epochs = 0\n",
    "        batch_size = min(batch_size, population)\n",
    "        batch_count = int(math.ceil(population / batch_size))\n",
    "\n",
    "        print('Batch generating against the {} dataset with population {} and shape {}'.format(label, population, X.shape))\n",
    "        while True:\n",
    "            counter += 1\n",
    "            print('batch gen iter {}'.format(counter))\n",
    "            for i in range(batch_count):\n",
    "                start_i = _index_in_epoch\n",
    "                _index_in_epoch += batch_size\n",
    "                if _index_in_epoch >= population:\n",
    "                    # Save the classifier to support manual early stoppage\n",
    "                    if classifier is not None:\n",
    "                        classifier.save()\n",
    "                    print('  sampled entire population. reshuffling deck and resetting all counters.')\n",
    "                    perm = np.arange(population)\n",
    "                    np.random.shuffle(perm)\n",
    "                    X = X[perm]\n",
    "                    Y = Y[perm]\n",
    "                    start_i = 0\n",
    "                    _index_in_epoch = batch_size\n",
    "                    _tot_epochs += 1\n",
    "                end_i = _index_in_epoch\n",
    "\n",
    "                X_batch = []\n",
    "                y_batch = []\n",
    "                \n",
    "                for j in range(start_i, end_i):\n",
    "                    steering_angle = Y[j]\n",
    "                    measurement = X[j]\n",
    "                    center_image = measurement.center_camera_view()\n",
    "                    print(center_image)\n",
    "                    # raise Exception('FAIL')\n",
    "\n",
    "                    if center_image is not None:\n",
    "                        image = preprocess_image(center_image, output_shape=output_shape)\n",
    "                        if flip_images and random.random() > 0.5:\n",
    "                            X_batch.append(np.fliplr(image))\n",
    "                            y_batch.append(-steering_angle)\n",
    "                        else:\n",
    "                            X_batch.append(image)\n",
    "                            y_batch.append(steering_angle)\n",
    "\n",
    "                yield np.array(X_batch), np.array(y_batch)\n",
    "\n",
    "    def __str__(self):\n",
    "        results = []\n",
    "        results.append('[Headers]')\n",
    "        results.append('  {}'.format(self.headers))\n",
    "        results.append('[Shapes]')\n",
    "        results.append('  X_train: {}'.format(self.X_train.shape))\n",
    "        results.append('  y_train: {}'.format(self.y_train.shape))\n",
    "        results.append('  X_val: {}'.format(self.X_val.shape))\n",
    "        results.append('  y_val: {}'.format(self.y_val.shape))\n",
    "        return '\\n'.join(results)"
   ]
  },
  {
   "cell_type": "markdown",
   "metadata": {},
   "source": [
    "Instantiates the Track 1 training dataset, prints details about the object then prints the first 5 elements of the dataframe."
   ]
  },
  {
   "cell_type": "code",
   "execution_count": 174,
   "metadata": {
    "collapsed": false
   },
   "outputs": [
    {
     "name": "stdout",
     "output_type": "stream",
     "text": [
      "[Headers]\n",
      "  ['center', 'left', 'right', 'steering', 'throttle', 'brake', 'speed']\n",
      "[Shapes]\n",
      "  X_train: (18691,)\n",
      "  y_train: (18691,)\n",
      "  X_val: (189,)\n",
      "  y_val: (189,)\n",
      "                                   center  \\\n",
      "0  IMG/center_2016_12_01_13_30_48_287.jpg   \n",
      "1  IMG/center_2016_12_01_13_30_48_404.jpg   \n",
      "2  IMG/center_2016_12_01_13_31_12_937.jpg   \n",
      "3  IMG/center_2016_12_01_13_31_13_037.jpg   \n",
      "4  IMG/center_2016_12_01_13_31_13_177.jpg   \n",
      "\n",
      "                                    left  \\\n",
      "0   IMG/left_2016_12_01_13_30_48_287.jpg   \n",
      "1   IMG/left_2016_12_01_13_30_48_404.jpg   \n",
      "2   IMG/left_2016_12_01_13_31_12_937.jpg   \n",
      "3   IMG/left_2016_12_01_13_31_13_037.jpg   \n",
      "4   IMG/left_2016_12_01_13_31_13_177.jpg   \n",
      "\n",
      "                                    right  steering  throttle  brake  \\\n",
      "0   IMG/right_2016_12_01_13_30_48_287.jpg       0.0       0.0    0.0   \n",
      "1   IMG/right_2016_12_01_13_30_48_404.jpg       0.0       0.0    0.0   \n",
      "2   IMG/right_2016_12_01_13_31_12_937.jpg       0.0       0.0    0.0   \n",
      "3   IMG/right_2016_12_01_13_31_13_037.jpg       0.0       0.0    0.0   \n",
      "4   IMG/right_2016_12_01_13_31_13_177.jpg       0.0       0.0    0.0   \n",
      "\n",
      "       speed  \n",
      "0  22.148290  \n",
      "1  21.879630  \n",
      "2   1.453011  \n",
      "3   1.438419  \n",
      "4   1.418236  \n"
     ]
    }
   ],
   "source": [
    "dataset = Track1TrainingDataset()\n",
    "print(dataset)\n",
    "print(dataset.df.head(n=5))"
   ]
  },
  {
   "cell_type": "code",
   "execution_count": 175,
   "metadata": {
    "collapsed": false
   },
   "outputs": [
    {
     "data": {
      "text/plain": [
       "<matplotlib.axes._subplots.AxesSubplot at 0x1253a7dd8>"
      ]
     },
     "execution_count": 175,
     "metadata": {},
     "output_type": "execute_result"
    },
    {
     "data": {
      "image/png": "[encoded data removed]",
      "text/plain": [
       "<matplotlib.figure.Figure at 0x1364e1518>"
      ]
     },
     "metadata": {},
     "output_type": "display_data"
    }
   ],
   "source": [
    "%matplotlib inline\n",
    "import matplotlib.pyplot as plt\n",
    "dataset.df.plot.hist(alpha=0.5)"
   ]
  },
  {
   "cell_type": "code",
   "execution_count": 176,
   "metadata": {
    "collapsed": false
   },
   "outputs": [
    {
     "data": {
      "text/plain": [
       "<matplotlib.axes._subplots.AxesSubplot at 0x129459828>"
      ]
     },
     "execution_count": 176,
     "metadata": {},
     "output_type": "execute_result"
    },
    {
     "data": {
      "image/png": "[encoded data removed]",
      "text/plain": [
       "<matplotlib.figure.Figure at 0x13197c128>"
      ]
     },
     "metadata": {},
     "output_type": "display_data"
    }
   ],
   "source": [
    "dataset.df['steering'].plot.hist(alpha=0.5)"
   ]
  },
  {
   "cell_type": "code",
   "execution_count": 177,
   "metadata": {
    "collapsed": false
   },
   "outputs": [
    {
     "data": {
      "text/plain": [
       "<matplotlib.axes._subplots.AxesSubplot at 0x131969198>"
      ]
     },
     "execution_count": 177,
     "metadata": {},
     "output_type": "execute_result"
    },
    {
     "data": {
      "image/png": "[encoded data removed]",
      "text/plain": [
       "<matplotlib.figure.Figure at 0x131f494a8>"
      ]
     },
     "metadata": {},
     "output_type": "display_data"
    }
   ],
   "source": [
    "dataset.df['steering'].plot()"
   ]
  },
  {
   "cell_type": "markdown",
   "metadata": {},
   "source": [
    "Explore the features"
   ]
  },
  {
   "cell_type": "code",
   "execution_count": 178,
   "metadata": {
    "collapsed": false
   },
   "outputs": [],
   "source": [
    "# Randomize the training date and inject to first 10 measurements into the batch generator.\n",
    "perm = np.arange(len(dataset.X_train))\n",
    "np.random.shuffle(perm)        \n",
    "generator = dataset.batch_generator(X=dataset.X_train[perm[0:1]], Y=dataset.y_train[perm[0:1]], output_shape=(40, 80, 3), label='batch feature exploration', num_epochs=1, batch_size=32)"
   ]
  },
  {
   "cell_type": "code",
   "execution_count": 179,
   "metadata": {
    "collapsed": false
   },
   "outputs": [
    {
     "name": "stdout",
     "output_type": "stream",
     "text": [
      "0.1479\n",
      "A\n",
      "B\n",
      "File Not Found: ./IMG/center_2016_12_18_22_45_26_690.jpg\n",
      "C\n",
      "None\n"
     ]
    }
   ],
   "source": [
    "print(dataset.X_train[0].steering_angle)\n",
    "print(dataset.X_train[0].center_camera_view())"
   ]
  },
  {
   "cell_type": "code",
   "execution_count": 180,
   "metadata": {
    "collapsed": false
   },
   "outputs": [
    {
     "name": "stdout",
     "output_type": "stream",
     "text": [
      "Batch generating against the batch feature exploration dataset with population 1 and shape (1,)\n",
      "batch gen iter 1\n",
      "  sampled entire population. reshuffling deck and resetting all counters.\n",
      "A\n",
      "B\n",
      "File Not Found: ./IMG/center_2016_12_17_02_05_59_744.jpg\n",
      "C\n",
      "None\n",
      "(0,)\n",
      "(0,)\n"
     ]
    },
    {
     "data": {
      "image/png": "[encoded data removed]",
      "text/plain": [
       "<matplotlib.figure.Figure at 0x130ce4208>"
      ]
     },
     "metadata": {},
     "output_type": "display_data"
    }
   ],
   "source": [
    "from zimpy.plot.image_plotter import ImagePlotter\n",
    "\n",
    "# Grab the first 10 items from the training set and \n",
    "X_batch, y_batch = next(generator)\n",
    "print(X_batch.shape)\n",
    "print(y_batch.shape)\n",
    "\n",
    "ImagePlotter.plot_images(X_batch, y_batch, rows=2, columns=5)"
   ]
  },
  {
   "cell_type": "markdown",
   "metadata": {},
   "source": [
    "#### Network Architecture"
   ]
  },
  {
   "cell_type": "markdown",
   "metadata": {},
   "source": [
    "BaseNetwork is the base class for all network implementation. It contains the necessary plumbing to save trained network data, load previously trained model and weights, and implements the abstract #fit method which all sub classes must implement."
   ]
  },
  {
   "cell_type": "code",
   "execution_count": 181,
   "metadata": {
    "collapsed": true
   },
   "outputs": [],
   "source": [
    "class BaseNetwork:\n",
    "    \n",
    "    WEIGHTS_FILE_NAME = 'model_final.h5'\n",
    "    MODEL_FILE_NAME = 'model_final.json'\n",
    "    \n",
    "    def __init__(self):\n",
    "        self.uuid = uuid.uuid4()\n",
    "        self.model = None\n",
    "        self.weights = None\n",
    "\n",
    "    def fit(self, X_train, y_train, X_val, y_val, nb_epoch=2, batch_size=32, samples_per_epoch=None, output_shape=(40, 80, 3)):\n",
    "        raise NotImplementedError\n",
    "        \n",
    "    def get_model(self, input_shape, output_shape, learning_rate=0.001, dropout_prob=0.1, activation='relu'):\n",
    "        raise NotImplementedError\n",
    "\n",
    "    def save(self):\n",
    "        print('Saved {} model.'.format(self.__class__.__name__))\n",
    "        self.__persist()\n",
    "\n",
    "    def __persist(self):\n",
    "        save_dir = os.path.join(os.path.dirname(__file__))\n",
    "        weights_save_path = os.path.join(save_dir, WEIGHTS_FILE_NAME)\n",
    "        model_save_path = os.path.join(save_dir, MODEL_FILE_NAME)\n",
    "\n",
    "        if not os.path.exists(save_dir):\n",
    "            os.makedirs(save_dir)\n",
    "\n",
    "        self.model.save_weights(weights_save_ath)\n",
    "        with open(model_save_path, 'w') as outfile:\n",
    "            json.dump(self.model.to_json(), outfile)\n",
    "\n",
    "    def __str__(self):\n",
    "        results = []\n",
    "        if self.model is not None:\n",
    "            results.append(self.model.summary())\n",
    "        return '\\n'.join(results)"
   ]
  },
  {
   "cell_type": "markdown",
   "metadata": {},
   "source": [
    "Track1 extends BaseNetwork.\n",
    "\n",
    "It contains a simple 4-layer convolutional neural network with 4 fully connected layers with 10% dropout after flattening the data as well as after the first FC layer."
   ]
  },
  {
   "cell_type": "code",
   "execution_count": 182,
   "metadata": {
    "collapsed": true
   },
   "outputs": [],
   "source": [
    "class Track1(BaseNetwork):\n",
    "    def fit(self, model, dataset, nb_epoch=2, batch_size=32, samples_per_epoch=None):\n",
    "\n",
    "        # Fit the model\n",
    "        # I wrote a custom batch generator with the main goal \n",
    "        # of reducing memory footprint on GPU with limited \n",
    "        # memory space.\n",
    "        history = model.fit_generator(\n",
    "            dataset.batch_generator(\n",
    "                X=dataset.X_train, \n",
    "                Y=dataset.y_train, \n",
    "                label='train set', \n",
    "                num_epochs=nb_epoch,\n",
    "                batch_size=batch_size,\n",
    "                output_shape=output_shape,\n",
    "                classifier=self\n",
    "            ),\n",
    "            nb_epoch=nb_epoch,\n",
    "            samples_per_epoch=len(X_train),\n",
    "            verbose=2,\n",
    "            validation_data=dataset.batch_generator(\n",
    "                X=dataset.X_val, \n",
    "                Y=dataset.y_val,\n",
    "                label='validation set',\n",
    "                num_epochs=nb_epoch,\n",
    "                batch_size=batch_size,\n",
    "                output_shape=output_shape\n",
    "            )\n",
    "        )\n",
    "        \n",
    "        print(history.history)\n",
    "        self.save()\n",
    "    \n",
    "    def get_model(self, input_shape, output_shape, learning_rate=0.001, dropout_prob=0.1, activation='relu'):\n",
    "        \"\"\"\n",
    "        Inital zero-mean normalization input layer.\n",
    "        A 4-layer deep neural network with 4 fully connected layers at the top.\n",
    "        ReLU activation used on each convolution layer.\n",
    "        Dropout of 10% (default) used after initially flattening after convolution layers.\n",
    "        Dropout of 10% (default) used after first fully connected layer.\n",
    "        \n",
    "        Adam optimizer with 0.001 learning rate (default) used in this network.\n",
    "        Mean squared error loss function was used since this is a regression problem and MSE is \n",
    "        quite common and robust for regression analysis.\n",
    "        \"\"\"\n",
    "        model = Sequential()\n",
    "        model.add(Lambda(lambda x: x / 255 - 0.5,\n",
    "                         input_shape=input_shape,\n",
    "                         output_shape=output_shape))\n",
    "        model.add(Convolution2D(24, 5, 5, border_mode='valid', activation=activation))\n",
    "        model.add(MaxPooling2D(pool_size=(2, 2)))\n",
    "        model.add(Convolution2D(36, 5, 5, border_mode='valid', activation=activation))\n",
    "        model.add(MaxPooling2D(pool_size=(2, 2)))\n",
    "        model.add(Convolution2D(48, 5, 5, border_mode='same', activation=activation))\n",
    "        model.add(MaxPooling2D(pool_size=(2, 2)))\n",
    "        model.add(Convolution2D(64, 3, 3, border_mode='same', activation=activation))\n",
    "        model.add(Flatten())\n",
    "        model.add(Dropout(dropout_prob))\n",
    "        model.add(Dense(1024, activation=activation))\n",
    "        model.add(Dropout(dropout_prob))\n",
    "        model.add(Dense(100, activation=activation))\n",
    "        model.add(Dense(50, activation=activation))\n",
    "        model.add(Dense(10, activation=activation))\n",
    "        model.add(Dense(1, init='normal'))\n",
    "\n",
    "        optimizer = Adam(lr=learning_rate)\n",
    "        model.compile(loss='mse', optimizer=optimizer, metrics=['accuracy'])\n",
    "        self.model = model\n",
    "        model.summary()\n",
    "        return model"
   ]
  },
  {
   "cell_type": "markdown",
   "metadata": {},
   "source": [
    "#### Instantiate the classifier"
   ]
  },
  {
   "cell_type": "code",
   "execution_count": 183,
   "metadata": {
    "collapsed": false
   },
   "outputs": [
    {
     "name": "stdout",
     "output_type": "stream",
     "text": [
      "____________________________________________________________________________________________________\n",
      "Layer (type)                     Output Shape          Param #     Connected to                     \n",
      "====================================================================================================\n",
      "lambda_1 (Lambda)                (None, 40, 80, 3)     0           lambda_input_1[0][0]             \n",
      "____________________________________________________________________________________________________\n",
      "convolution2d_1 (Convolution2D)  (None, 36, 76, 24)    1824        lambda_1[0][0]                   \n",
      "____________________________________________________________________________________________________\n",
      "maxpooling2d_1 (MaxPooling2D)    (None, 18, 38, 24)    0           convolution2d_1[0][0]            \n",
      "____________________________________________________________________________________________________\n",
      "convolution2d_2 (Convolution2D)  (None, 14, 34, 36)    21636       maxpooling2d_1[0][0]             \n",
      "____________________________________________________________________________________________________\n",
      "maxpooling2d_2 (MaxPooling2D)    (None, 7, 17, 36)     0           convolution2d_2[0][0]            \n",
      "____________________________________________________________________________________________________\n",
      "convolution2d_3 (Convolution2D)  (None, 7, 17, 48)     43248       maxpooling2d_2[0][0]             \n",
      "____________________________________________________________________________________________________\n",
      "maxpooling2d_3 (MaxPooling2D)    (None, 3, 8, 48)      0           convolution2d_3[0][0]            \n",
      "____________________________________________________________________________________________________\n",
      "convolution2d_4 (Convolution2D)  (None, 3, 8, 64)      27712       maxpooling2d_3[0][0]             \n",
      "____________________________________________________________________________________________________\n",
      "flatten_1 (Flatten)              (None, 1536)          0           convolution2d_4[0][0]            \n",
      "____________________________________________________________________________________________________\n",
      "dropout_1 (Dropout)              (None, 1536)          0           flatten_1[0][0]                  \n",
      "____________________________________________________________________________________________________\n",
      "dense_1 (Dense)                  (None, 1024)          1573888     dropout_1[0][0]                  \n",
      "____________________________________________________________________________________________________\n",
      "dropout_2 (Dropout)              (None, 1024)          0           dense_1[0][0]                    \n",
      "____________________________________________________________________________________________________\n",
      "dense_2 (Dense)                  (None, 100)           102500      dropout_2[0][0]                  \n",
      "____________________________________________________________________________________________________\n",
      "dense_3 (Dense)                  (None, 50)            5050        dense_2[0][0]                    \n",
      "____________________________________________________________________________________________________\n",
      "dense_4 (Dense)                  (None, 10)            510         dense_3[0][0]                    \n",
      "____________________________________________________________________________________________________\n",
      "dense_5 (Dense)                  (None, 1)             11          dense_4[0][0]                    \n",
      "====================================================================================================\n",
      "Total params: 1776379\n",
      "____________________________________________________________________________________________________\n"
     ]
    }
   ],
   "source": [
    "output_shape=(40, 80, 3)\n",
    "\n",
    "clf = Track1()\n",
    "model = clf.get_model(\n",
    "    input_shape=output_shape, \n",
    "    output_shape=output_shape, \n",
    "    learning_rate=0.001, \n",
    "    dropout_prob=0.1, \n",
    "    activation='relu'\n",
    ")"
   ]
  },
  {
   "cell_type": "markdown",
   "metadata": {},
   "source": [
    "#### Train the network"
   ]
  },
  {
   "cell_type": "code",
   "execution_count": 184,
   "metadata": {
    "collapsed": false
   },
   "outputs": [],
   "source": [
    "if False:\n",
    "    clf.fit(\n",
    "        model, \n",
    "        dataset, \n",
    "        nb_epoch=2, \n",
    "        batch_size=32\n",
    "    )"
   ]
  },
  {
   "cell_type": "code",
   "execution_count": null,
   "metadata": {
    "collapsed": true
   },
   "outputs": [],
   "source": []
  }
 ],
 "metadata": {
  "anaconda-cloud": {},
  "kernelspec": {
   "display_name": "Python [conda env:carnd]",
   "language": "python",
   "name": "conda-env-carnd-py"
  },
  "language_info": {
   "codemirror_mode": {
    "name": "ipython",
    "version": 3
   },
   "file_extension": ".py",
   "mimetype": "text/x-python",
   "name": "python",
   "nbconvert_exporter": "python",
   "pygments_lexer": "ipython3",
   "version": "3.5.2"
  }
 },
 "nbformat": 4,
 "nbformat_minor": 0
}
